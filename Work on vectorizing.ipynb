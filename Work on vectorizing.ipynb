{
 "cells": [
  {
   "cell_type": "markdown",
   "metadata": {},
   "source": [
    "## Increase versatility of coupled dipole code\n",
    "\n",
    "Currently, I have to make a for loop to generate a spectrum. I would like to just be able to give the code an array of omega's, and it automaticallly returns the arrayed spectrum. I will also need to do this for the radii and position inputs.\n"
   ]
  },
  {
   "cell_type": "code",
   "execution_count": 1,
   "metadata": {},
   "outputs": [],
   "source": [
    "from coupled_dipole_model import Sphere_Polarizability\n",
    "from coupled_dipole_model import CrossSections\n",
    "import numpy as np\n",
    "import matplotlib.pyplot as plt\n",
    "from scipy.io import loadmat\n",
    "\n",
    "hbar_eVs = 6.58212E-16 # Planck's constant [eV*s]\n",
    "c = 2.998E+10 # speed of light [cm/s]\n"
   ]
  },
  {
   "cell_type": "markdown",
   "metadata": {},
   "source": [
    "## Two Spheres\n"
   ]
  },
  {
   "cell_type": "code",
   "execution_count": 2,
   "metadata": {},
   "outputs": [],
   "source": [
    "num = 2\n",
    "def make_spherehomodimer_input(radius, gap, N=num):\n",
    "    def_centers = np.zeros((N, 3))\n",
    "    def_all_radii = np.zeros((N))\n",
    "    def_centers[0,:] = np.array([ 0, 0, -radius-gap/2 ])*1.E-7\n",
    "    def_centers[1,:] = np.array([ 0, 0, radius+gap/2 ])*1.E-7\n",
    "    def_all_radii[0] = radius*1.E-7\n",
    "    def_all_radii[1] = radius*1.E-7\n",
    "    return def_centers, def_all_radii\n"
   ]
  },
  {
   "cell_type": "code",
   "execution_count": 3,
   "metadata": {},
   "outputs": [
    {
     "name": "stdout",
     "output_type": "stream",
     "text": [
      "(500, 2)\n"
     ]
    },
    {
     "data": {
      "image/png": "[encoded data removed]",
      "text/plain": [
       "<Figure size 432x288 with 1 Axes>"
      ]
     },
     "metadata": {
      "needs_background": "light"
     },
     "output_type": "display_data"
    }
   ],
   "source": [
    "w_all = np.arange(1,3.5,.005)/hbar_eVs\n",
    "def_centers, def_all_radii = make_spherehomodimer_input(radius=20, gap=10)\n",
    "calc_dips = CrossSections(centers=def_centers, \n",
    "                                   all_radii=def_all_radii,\n",
    "                                   w=w_all,\n",
    "                                   num=num, \n",
    "                                   n=1.0, \n",
    "                                   wp=8.959/hbar_eVs, \n",
    "                                   eps_inf=9.695, \n",
    "                                   gam_drude=0.073/hbar_eVs)    \n",
    "\n",
    "Pext, Pabs = calc_dips.cross_sects(drive=np.array([0, 0, 1]))\n",
    "plt.plot(w_all*hbar_eVs, Pabs[:,1]+Pabs[:,0])\n",
    "\n",
    "\n",
    "print(Pabs.shape)\n",
    "\n"
   ]
  },
  {
   "cell_type": "code",
   "execution_count": 4,
   "metadata": {},
   "outputs": [
    {
     "data": {
      "text/plain": [
       "numpy.ndarray"
      ]
     },
     "execution_count": 4,
     "metadata": {},
     "output_type": "execute_result"
    }
   ],
   "source": [
    "def_centers, def_all_radii = make_spherehomodimer_input(radius=20, gap=10)\n",
    "sph_pol = Sphere_Polarizability(centers=def_centers, \n",
    "                                   all_radii=def_all_radii, \n",
    "                                   n=1.0, \n",
    "                                   wp=8.959/hbar_eVs, \n",
    "                                   eps_inf=9.695, \n",
    "                                   gam_drude=0.073/hbar_eVs)   \n",
    "\n",
    "w_all = np.arange(1,3.5,.1)/hbar_eVs\n",
    "\n",
    "type(sph_pol.alpha(w=w_all, radius=def_all_radii[0]))"
   ]
  },
  {
   "cell_type": "code",
   "execution_count": null,
   "metadata": {},
   "outputs": [],
   "source": []
  }
 ],
 "metadata": {
  "kernelspec": {
   "display_name": "Python 3",
   "language": "python",
   "name": "python3"
  },
  "language_info": {
   "codemirror_mode": {
    "name": "ipython",
    "version": 3
   },
   "file_extension": ".py",
   "mimetype": "text/x-python",
   "name": "python",
   "nbconvert_exporter": "python",
   "pygments_lexer": "ipython3",
   "version": "3.8.3"
  }
 },
 "nbformat": 4,
 "nbformat_minor": 4
}
