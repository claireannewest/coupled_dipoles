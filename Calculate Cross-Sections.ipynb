{
 "cells": [
  {
   "cell_type": "code",
   "execution_count": 1,
   "metadata": {},
   "outputs": [],
   "source": [
    "from coupled_dipole_model import DipoleParameters\n",
    "from coupled_dipole_model import CalculateCrossSections\n",
    "import numpy as np\n",
    "import matplotlib.pyplot as plt\n",
    "hbar_eVs = 6.58212E-16 # Planck's constant [eV*s]\n",
    "\n",
    "def plot_analytics(which, drive):\n",
    "    \"\"\"This function plots the individual particle and total cross-sections.\n",
    "    \n",
    "    which -- which observable to plot (takes 'ext', 'sca', or 'abs')\n",
    "    drive -- polarization of light (e.g. x polarized = np.array([1, 0, 0]) )\n",
    "    \"\"\"\n",
    "    w = np.arange(.5,3,.005)/hbar_eVs\n",
    "    Pext = np.zeros((num, len(w)))\n",
    "    Psca = np.zeros((num, len(w)))\n",
    "    Pabs = np.zeros((num, len(w)))\n",
    "    for i in range(0,len(w)):\n",
    "        Pext[:,i], Psca[:,i], Pabs[:,i] = calc_dips.cross_sects(w=w[i], drive=drive)\n",
    "    if which == 'ext': P = Pext\n",
    "    if which == 'sca': P = Psca\n",
    "    if which == 'abs': P = Pabs\n",
    "#     for i in range(0, num):\n",
    "#         plt.plot(w*hbar_eVs, P[i,:], label=str('particle ')+str(i+1))\n",
    "    plt.plot(w*hbar_eVs, np.sum(P, axis=0), '--',label='analytics')"
   ]
  },
  {
   "cell_type": "markdown",
   "metadata": {},
   "source": [
    "## Example for a rotated prolate spheroid monomer"
   ]
  },
  {
   "cell_type": "code",
   "execution_count": 2,
   "metadata": {},
   "outputs": [],
   "source": [
    "num = 1 # number of particles \n",
    "def make_mono_input(N, shortaxis, longaxis, angle):\n",
    "    def_centers = np.zeros((N, 3)) # center of prolate spheroid\n",
    "    def_orient = np.zeros(N) # angle between z axis, and long axis spheroid\n",
    "    def_all_radii = np.zeros((N, 2)) # radii of spheroid, (long, short)\n",
    "    def_orient[0] = angle\n",
    "    def_all_radii[0, :] = np.array([longaxis, shortaxis])*1.E-7\n",
    "    return def_centers, def_orient, def_all_radii\n",
    "\n",
    "def_centers, def_orients, def_all_radii = make_mono_input(N=num, \n",
    "                                                     shortaxis=10, # nm\n",
    "                                                     longaxis=30, # nm\n",
    "                                                     angle= 0.0# 30*(np.pi/180) # radian\n",
    "                                                    )\n",
    "\n",
    "calc_dips = CalculateCrossSections(centers=def_centers, \n",
    "                                   orient=def_orients,\n",
    "                                   all_radii=def_all_radii,\n",
    "                                   num=num,\n",
    "                                   n=1.47, \n",
    "                                   wp=8.959/hbar_eVs, \n",
    "                                   eps_inf=9.695, \n",
    "                                   gam_drude=0.073/hbar_eVs\n",
    "                                  )\n",
    "\n",
    "# plot_analytics(which='abs', drive=np.array([0, 0, 1]))\n",
    "# plt.xlim([1.5, 3.0])\n",
    "# plt.xlabel('Energy [eV]')\n",
    "# plt.ticklabel_format(axis=\"y\", style=\"sci\", scilimits=(0,0))\n",
    "# plt.ylabel('Abs. Cross-section [$\\mu$m$^2$]')\n",
    "# plt.tight_layout()\n",
    "# plt.legend(frameon=False,loc='upper left')\n",
    "# plt.show()"
   ]
  },
  {
   "cell_type": "markdown",
   "metadata": {},
   "source": [
    "## Inputs for a Dimer"
   ]
  },
  {
   "cell_type": "code",
   "execution_count": 3,
   "metadata": {},
   "outputs": [],
   "source": [
    "# num = 2\n",
    "# def make_dimer_input(N, shortaxis1, shortaxis2, longaxis1, longaxis2, angle1, angle2, gapy, gapz):\n",
    "#     if gapz == 0: whichgap = 'y'; gaplen=gapy\n",
    "#     if gapy == 0: whichgap = 'z'; gaplen=gapz\n",
    "\n",
    "#     def_centers = np.zeros((N, 3))\n",
    "#     def_orient = np.zeros(N)\n",
    "#     def_all_radii = np.zeros((N, 2))\n",
    "\n",
    "#     if whichgap == 'z':\n",
    "#         def_centers[0,:] = np.array([ 0, 0, -gapz/2 ])*1.E-7\n",
    "#         def_centers[1,:] = np.array([ 0,  0, gapz/2 ])*1.E-7\n",
    "#     if whichgap == 'y':\n",
    "#         def_centers[0,:] = np.array([ 0, -gapy/2, 0 ])*1.E-7\n",
    "#         def_centers[1,:] = np.array([ 0,  gapy/2, 0 ])*1.E-7\n",
    "\n",
    "#     def_orient[0] = angle1\n",
    "#     def_orient[1] = angle2\n",
    "\n",
    "#     def_all_radii[0, :] = np.array([longaxis1, shortaxis1])*1.E-7\n",
    "#     def_all_radii[1, :] = np.array([longaxis2, shortaxis2])*1.E-7\n",
    "#     return def_centers, def_orient, def_all_radii\n",
    "\n",
    "# def_centers, def_orients, def_all_radii = make_dimer_input(N=num,\n",
    "#                                                           shortaxis1=30,\n",
    "#                                                           longaxis1=60,\n",
    "#                                                           shortaxis2=30,\n",
    "#                                                           longaxis2=70, \n",
    "#                                                           angle1=0, \n",
    "#                                                           angle2=0,\n",
    "#                                                           gapy=0, \n",
    "#                                                           gapz=100)\n",
    "\n",
    "# calc_dips = CalculateCrossSections(centers=def_centers, \n",
    "#                                    orient=def_orients,\n",
    "#                                    all_radii=def_all_radii,\n",
    "#                                    num=num,\n",
    "#                                    n=1.0, \n",
    "#                                    wp=8.959/hbar_eVs, \n",
    "#                                    eps_inf=9.695, \n",
    "#                                    gam_drude=0.073/hbar_eVs)\n",
    "\n",
    "\n",
    "# plot_analytics(which='abs', drive=np.array([0, 0, 1]))\n",
    "# plt.xlim([1.0, 3.0])\n",
    "# plt.xlabel('Energy [eV]')\n",
    "# plt.ticklabel_format(axis=\"y\", style=\"sci\", scilimits=(0,0))\n",
    "# plt.ylabel('Abs. Cross-section [$\\mu$m$^2$]')\n",
    "# plt.tight_layout()\n",
    "# plt.legend(frameon=False,loc='upper right')\n",
    "# plt.show()"
   ]
  },
  {
   "cell_type": "markdown",
   "metadata": {},
   "source": [
    "## Verify Against Simulation"
   ]
  },
  {
   "cell_type": "code",
   "execution_count": 5,
   "metadata": {},
   "outputs": [
    {
     "data": {
      "image/png": "[encoded data removed]",
      "text/plain": [
       "<Figure size 432x288 with 1 Axes>"
      ]
     },
     "metadata": {
      "needs_background": "light"
     },
     "output_type": "display_data"
    }
   ],
   "source": [
    "def plot_simulation(filename, labelname, linetype):\n",
    "    data = np.loadtxt(filename,skiprows=1)\n",
    "    energy = data[:,0]\n",
    "    ext_cross = data[:,1]\n",
    "    abs_cross = data[:,2]\n",
    "    sca_cross = data[:,3]\n",
    "    plt.plot(energy, abs_cross, linetype, label=labelname)\n",
    "\n",
    "\n",
    "name = str('../check_with_simulation/simulated_spectra/single_ellipsoid/Spectrum_10_30_n1.47')\n",
    "plot_simulation(filename=name, linetype='', labelname='sim')\n",
    "\n",
    "plot_analytics(which='abs', drive=np.array([0, 0, 1]))\n",
    "\n",
    "plt.xlim([1.0, 3.0])\n",
    "plt.xlabel('Energy [eV]')\n",
    "plt.ticklabel_format(axis=\"y\", style=\"sci\", scilimits=(0,0))\n",
    "plt.ylabel('Abs. Cross-section [$\\mu$m$^2$]')\n",
    "plt.tight_layout()\n",
    "plt.legend(frameon=False,loc='upper right')\n",
    "plt.show()"
   ]
  },
  {
   "cell_type": "code",
   "execution_count": null,
   "metadata": {},
   "outputs": [],
   "source": []
  }
 ],
 "metadata": {
  "kernelspec": {
   "display_name": "Python 3",
   "language": "python",
   "name": "python3"
  },
  "language_info": {
   "codemirror_mode": {
    "name": "ipython",
    "version": 3
   },
   "file_extension": ".py",
   "mimetype": "text/x-python",
   "name": "python",
   "nbconvert_exporter": "python",
   "pygments_lexer": "ipython3",
   "version": "3.6.10"
  }
 },
 "nbformat": 4,
 "nbformat_minor": 4
}
